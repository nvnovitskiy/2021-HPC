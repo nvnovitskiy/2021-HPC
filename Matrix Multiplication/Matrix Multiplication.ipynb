{
 "cells": [
  {
   "cell_type": "code",
   "execution_count": 1,
   "id": "ebe3aceb",
   "metadata": {},
   "outputs": [],
   "source": [
    "import numpy as np\n",
    "import pandas as pd\n",
    "import matplotlib.pyplot as plt\n",
    "import pycuda.autoinit\n",
    "import warnings\n",
    "import time\n",
    "import cpuinfo\n",
    "import os\n",
    "from pycuda.tools import make_default_context\n",
    "from pycuda import driver, compiler, tools, gpuarray\n",
    "warnings.filterwarnings('ignore')"
   ]
  },
  {
   "cell_type": "code",
   "execution_count": 2,
   "id": "bab4883f",
   "metadata": {},
   "outputs": [],
   "source": [
    "os.environ['PATH'] += ';' + r\"C:\\Program Files (x86)\\Microsoft Visual Studio\\2019\\Community\\VC\\Tools\\MSVC\\14.29.30133\\bin\\Hostx64\\x64\""
   ]
  },
  {
   "cell_type": "code",
   "execution_count": 3,
   "id": "dc132a22",
   "metadata": {},
   "outputs": [],
   "source": [
    "def MATRIX_MULTIPLICATION_GPU(matrix_a, matrix_b, matrix_dimension, bdim, gdim):\n",
    "    kernel = '''\n",
    "    __global__ void MatrixMulKernel(float *a, float *b, float *c, const int DIMENSION){\n",
    "        int COLUMN = threadIdx.x + blockIdx.x * blockDim.x;\n",
    "        int ROW =  threadIdx.y + blockIdx.y * blockDim.y;\n",
    "        for(int i = 0; i < DIMENSION; i++){\n",
    "            c[COLUMN + ROW * DIMENSION] += a[i + ROW * DIMENSION] * b[COLUMN + i * DIMENSION];\n",
    "        }       \n",
    "}\n",
    "'''\n",
    "    matrix_c = gpuarray.empty((matrix_dimension, matrix_dimension), np.float32)\n",
    "    matrixmul = compiler.SourceModule(kernel).get_function('MatrixMulKernel')\n",
    "    matrixmul(matrix_a, matrix_b, matrix_c, matrix_dimension, block=bdim, grid=gdim)\n",
    "    return matrix_c"
   ]
  },
  {
   "cell_type": "code",
   "execution_count": 4,
   "id": "eb151fd3",
   "metadata": {},
   "outputs": [],
   "source": [
    "def MATRIX_MULTIPLICATION_CPU(matrix_a, matrix_b, matrix_c):\n",
    "    for i in range(len(matrix_a)):\n",
    "        for j in range(len(matrix_b[0])):\n",
    "            for k in range(len(matrix_b)):\n",
    "                matrix_c[i][j] += matrix_a[i][k] * matrix_b[k][j]\n",
    "    return matrix_c"
   ]
  },
  {
   "cell_type": "code",
   "execution_count": 5,
   "id": "5477f29a",
   "metadata": {},
   "outputs": [
    {
     "name": "stdout",
     "output_type": "stream",
     "text": [
      "GPU: NVIDIA GeForce GTX 1060 with Max-Q Design\n",
      "CPU: Intel(R) Core(TM) i5-8300H CPU @ 2.30GHz\n",
      "\n",
      "Размерность матрицы: 128\n",
      "Время выполнения на CPU: 2.080\n",
      "Время выполнения на GPU: 0.382\n",
      "Разница между CPU & GPU: 1.698\n",
      "\n",
      "Размерность матрицы: 256\n",
      "Время выполнения на CPU: 17.441\n",
      "Время выполнения на GPU: 0.002\n",
      "Разница между CPU & GPU: 17.439\n",
      "\n",
      "Размерность матрицы: 512\n",
      "Время выполнения на CPU: 146.498\n",
      "Время выполнения на GPU: 0.006\n",
      "Разница между CPU & GPU: 146.492\n",
      "\n"
     ]
    }
   ],
   "source": [
    "DIMENSIONS = [128, 256, 512]\n",
    "TIME_CPU = []\n",
    "TIME_GPU = []\n",
    "DIFFERENCE_CPU_GPU = []\n",
    "\n",
    "print(f'GPU: {tools.make_default_context().get_device().name()}')\n",
    "print(f'CPU: {cpuinfo.get_cpu_info()[\"brand_raw\"]}')\n",
    "print()\n",
    "\n",
    "for size in DIMENSIONS:\n",
    "    # Создаём данные\n",
    "    matrix_a = np.random.randn(size, size).astype(np.float32)\n",
    "    matrix_b = np.random.randn(size, size).astype(np.float32)\n",
    "    matrix_c = np.zeros(shape=(matrix_a.shape[0], matrix_b.shape[1]))\n",
    "    \n",
    "    # Вычисляем время на CPU\n",
    "    CPU_START = time.time()\n",
    "    CPU = MATRIX_MULTIPLICATION_CPU(matrix_a, matrix_b, matrix_c)\n",
    "    CPU_TIME = time.time() - CPU_START\n",
    "    TIME_CPU.append(CPU_TIME)\n",
    "    \n",
    "    # Вычисляем время на GPU\n",
    "    GPU_START = time.time()\n",
    "    if size > 32:\n",
    "        gdim, remains = divmod(size, 32)\n",
    "        bdim = (32,32,1)\n",
    "        gdim = (gdim + (remains > 0), gdim + (remains > 0))\n",
    "    else:\n",
    "        bdim = (size, size, 1)\n",
    "        gdim = (1,1)\n",
    "    matrix_a_gpu = gpuarray.to_gpu(matrix_a)\n",
    "    matrix_b_gpu = gpuarray.to_gpu(matrix_b)\n",
    "    GPU = MATRIX_MULTIPLICATION_GPU(matrix_a_gpu, matrix_b_gpu, np.int32(size), bdim, gdim)\n",
    "    GPU_TIME = time.time() - GPU_START\n",
    "    TIME_GPU.append(GPU_TIME)\n",
    "    \n",
    "    # Вычисляем разницу между CPU & GPU\n",
    "    DIFFERENCE_TIME = CPU_TIME - GPU_TIME\n",
    "    DIFFERENCE_CPU_GPU.append(DIFFERENCE_TIME)\n",
    "    \n",
    "    print(f'Размерность матрицы: {size}')\n",
    "    print(f'Время выполнения на CPU: {CPU_TIME:.3f}')\n",
    "    print(f'Время выполнения на GPU: {GPU_TIME:.3f}')\n",
    "    print(f'Разница между CPU & GPU: {DIFFERENCE_TIME:.3f}')\n",
    "    print()"
   ]
  },
  {
   "cell_type": "code",
   "execution_count": 6,
   "id": "32726c4b",
   "metadata": {},
   "outputs": [
    {
     "data": {
      "text/plain": [
       "<matplotlib.legend.Legend at 0x20f2296c730>"
      ]
     },
     "execution_count": 6,
     "metadata": {},
     "output_type": "execute_result"
    },
    {
     "data": {
      "image/png": "[encoded data removed]",
      "text/plain": [
       "<Figure size 432x288 with 1 Axes>"
      ]
     },
     "metadata": {
      "needs_background": "light"
     },
     "output_type": "display_data"
    }
   ],
   "source": [
    "plt.plot(DIMENSIONS, TIME_CPU, color='green', label='CPU')\n",
    "plt.plot(DIMENSIONS, TIME_GPU, color='blue', label='GPU')\n",
    "plt.xlabel('Размерность матрицы')\n",
    "plt.ylabel('Время')\n",
    "plt.legend()"
   ]
  },
  {
   "cell_type": "code",
   "execution_count": 7,
   "id": "aed9beb4",
   "metadata": {},
   "outputs": [],
   "source": [
    "df = pd.DataFrame({\n",
    "    'MATRIX_DIMENSION': DIMENSIONS,\n",
    "    'CPU': TIME_CPU,\n",
    "    'GPU': TIME_GPU,\n",
    "})"
   ]
  },
  {
   "cell_type": "code",
   "execution_count": 8,
   "id": "c474871d",
   "metadata": {},
   "outputs": [],
   "source": [
    "df.to_excel('gpu_vs_cpu.xlsx', index=False)"
   ]
  }
 ],
 "metadata": {
  "kernelspec": {
   "display_name": "Python 3",
   "language": "python",
   "name": "python3"
  },
  "language_info": {
   "codemirror_mode": {
    "name": "ipython",
    "version": 3
   },
   "file_extension": ".py",
   "mimetype": "text/x-python",
   "name": "python",
   "nbconvert_exporter": "python",
   "pygments_lexer": "ipython3",
   "version": "3.8.8"
  }
 },
 "nbformat": 4,
 "nbformat_minor": 5
}
