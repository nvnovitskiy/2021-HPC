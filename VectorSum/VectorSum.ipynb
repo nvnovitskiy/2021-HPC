{
  "nbformat": 4,
  "nbformat_minor": 0,
  "metadata": {
    "colab": {
      "name": "VectorSum.ipynb",
      "provenance": [],
      "collapsed_sections": []
    },
    "kernelspec": {
      "name": "python3",
      "display_name": "Python 3"
    },
    "language_info": {
      "name": "python"
    },
    "accelerator": "GPU"
  },
  "cells": [
    {
      "cell_type": "code",
      "metadata": {
        "colab": {
          "base_uri": "https://localhost:8080/"
        },
        "id": "j7UFPfYUSM6z",
        "outputId": "660136a7-8523-4193-d93c-8c3ecda218c4"
      },
      "source": [
        "!pip install numba"
      ],
      "execution_count": 1,
      "outputs": [
        {
          "output_type": "stream",
          "name": "stdout",
          "text": [
            "Requirement already satisfied: numba in /usr/local/lib/python3.7/dist-packages (0.51.2)\n",
            "Requirement already satisfied: llvmlite<0.35,>=0.34.0.dev0 in /usr/local/lib/python3.7/dist-packages (from numba) (0.34.0)\n",
            "Requirement already satisfied: setuptools in /usr/local/lib/python3.7/dist-packages (from numba) (57.4.0)\n",
            "Requirement already satisfied: numpy>=1.15 in /usr/local/lib/python3.7/dist-packages (from numba) (1.19.5)\n"
          ]
        }
      ]
    },
    {
      "cell_type": "code",
      "metadata": {
        "id": "Wy9v-VXArXNj"
      },
      "source": [
        "import time\n",
        "import numpy as np\n",
        "import pandas as pd\n",
        "import matplotlib.pyplot as plt\n",
        "from numba import cuda, jit, int32, int64"
      ],
      "execution_count": 2,
      "outputs": []
    },
    {
      "cell_type": "code",
      "metadata": {
        "id": "K1FNHe_osBy9"
      },
      "source": [
        "def vector_sum_cpu(vec):\n",
        "    return np.sum(vec)\n",
        "\n",
        "\n",
        "@cuda.jit\n",
        "def vector_sum_gpu(vec_x, vec_y):\n",
        "    idx = cuda.blockIdx.x * cuda.blockDim.x + cuda.threadIdx.x\n",
        "    count = 0\n",
        "    if idx <= len(vec_x):\n",
        "        count += vec_x[idx] + vec_x[idx]\n",
        "        cuda.atomic.add(vec_y, 0, count)\n",
        "    \n",
        "    \n",
        "def DeviceHost(vec_x, vec_y):\n",
        "    dev_x = cuda.to_device(vec_x)\n",
        "    dev_y = cuda.to_device(vec_y)\n",
        "    vector_sum_gpu[32, 32](dev_x, dev_y)\n",
        "    vec_y = dev_y.copy_to_host()\n",
        "    return vec_y"
      ],
      "execution_count": 3,
      "outputs": []
    },
    {
      "cell_type": "code",
      "metadata": {
        "id": "n_nPS48qzMEs"
      },
      "source": [
        "N = [209715, 4194304, 8388608, 16777216, 33554432, 67108864]\n",
        "vector1 = np.random.randint(1, 100, N[0])\n",
        "vector2 = np.random.randint(1, 100, N[1])\n",
        "vector3 = np.random.randint(1, 100, N[2])\n",
        "vector4 = np.random.randint(1, 100, N[3])\n",
        "vector5 = np.random.randint(1, 100, N[4])\n",
        "vector6 = np.random.randint(1, 100, N[5])\n",
        "data = [vector1, vector2, vector3, vector4, vector5, vector6]\n",
        "df = pd.DataFrame(columns=[\"GPU\", \"CPU\"])\n",
        "\n",
        "\n",
        "for item in range(len(data)):\n",
        "  start_gpu = time.time()\n",
        "  DeviceHost(data[item], np.zeros(1, dtype=np.int32))\n",
        "  end_gpu = time.time() - start_gpu\n",
        "\n",
        "  start_cpu = time.time()\n",
        "  vector_sum_cpu(data[item])\n",
        "  end_cpu = time.time() - start_cpu\n",
        "\n",
        "  df = df.append({\n",
        "      \"GPU\": end_gpu,\n",
        "      \"CPU\": end_cpu\n",
        "      }, ignore_index=True)"
      ],
      "execution_count": 4,
      "outputs": []
    },
    {
      "cell_type": "code",
      "metadata": {
        "colab": {
          "base_uri": "https://localhost:8080/",
          "height": 238
        },
        "id": "xOPwzvx4sGrC",
        "outputId": "c0c75fbc-0413-43fe-e19c-1e5d0d486c56"
      },
      "source": [
        "df"
      ],
      "execution_count": 5,
      "outputs": [
        {
          "output_type": "execute_result",
          "data": {
            "text/html": [
              "<div>\n",
              "<style scoped>\n",
              "    .dataframe tbody tr th:only-of-type {\n",
              "        vertical-align: middle;\n",
              "    }\n",
              "\n",
              "    .dataframe tbody tr th {\n",
              "        vertical-align: top;\n",
              "    }\n",
              "\n",
              "    .dataframe thead th {\n",
              "        text-align: right;\n",
              "    }\n",
              "</style>\n",
              "<table border=\"1\" class=\"dataframe\">\n",
              "  <thead>\n",
              "    <tr style=\"text-align: right;\">\n",
              "      <th></th>\n",
              "      <th>GPU</th>\n",
              "      <th>CPU</th>\n",
              "    </tr>\n",
              "  </thead>\n",
              "  <tbody>\n",
              "    <tr>\n",
              "      <th>0</th>\n",
              "      <td>0.755201</td>\n",
              "      <td>0.000291</td>\n",
              "    </tr>\n",
              "    <tr>\n",
              "      <th>1</th>\n",
              "      <td>0.006776</td>\n",
              "      <td>0.003692</td>\n",
              "    </tr>\n",
              "    <tr>\n",
              "      <th>2</th>\n",
              "      <td>0.011187</td>\n",
              "      <td>0.007382</td>\n",
              "    </tr>\n",
              "    <tr>\n",
              "      <th>3</th>\n",
              "      <td>0.020456</td>\n",
              "      <td>0.015200</td>\n",
              "    </tr>\n",
              "    <tr>\n",
              "      <th>4</th>\n",
              "      <td>0.038944</td>\n",
              "      <td>0.030095</td>\n",
              "    </tr>\n",
              "    <tr>\n",
              "      <th>5</th>\n",
              "      <td>0.141650</td>\n",
              "      <td>0.060346</td>\n",
              "    </tr>\n",
              "  </tbody>\n",
              "</table>\n",
              "</div>"
            ],
            "text/plain": [
              "        GPU       CPU\n",
              "0  0.755201  0.000291\n",
              "1  0.006776  0.003692\n",
              "2  0.011187  0.007382\n",
              "3  0.020456  0.015200\n",
              "4  0.038944  0.030095\n",
              "5  0.141650  0.060346"
            ]
          },
          "metadata": {},
          "execution_count": 5
        }
      ]
    },
    {
      "cell_type": "code",
      "metadata": {
        "colab": {
          "base_uri": "https://localhost:8080/",
          "height": 279
        },
        "id": "u1Q_0XlguDoV",
        "outputId": "6c69342a-c6e5-4c26-905e-0243583b961a"
      },
      "source": [
        "plt.plot(N, df[\"GPU\"], color='green', label='GPU')\n",
        "plt.plot(N, df[\"CPU\"], color='red', label='CPU')\n",
        "plt.xlabel(\"Vector Size\")\n",
        "plt.ylabel(\"Time\")\n",
        "plt.legend()\n",
        "plt.show()"
      ],
      "execution_count": 6,
      "outputs": [
        {
          "output_type": "display_data",
          "data": {
            "image/png": "[encoded data removed]",
            "text/plain": [
              "<Figure size 432x288 with 1 Axes>"
            ]
          },
          "metadata": {
            "needs_background": "light"
          }
        }
      ]
    },
    {
      "cell_type": "code",
      "metadata": {
        "colab": {
          "base_uri": "https://localhost:8080/",
          "height": 53
        },
        "id": "tZp4c5qI2g7a",
        "outputId": "07998c2e-6a76-48f7-95d1-4e1cb363109d"
      },
      "source": [
        "df.to_markdown()"
      ],
      "execution_count": 7,
      "outputs": [
        {
          "output_type": "execute_result",
          "data": {
            "application/vnd.google.colaboratory.intrinsic+json": {
              "type": "string"
            },
            "text/plain": [
              "'|    |        GPU |         CPU |\\n|---:|-----------:|------------:|\\n|  0 | 0.755201   | 0.000291109 |\\n|  1 | 0.00677586 | 0.00369191  |\\n|  2 | 0.0111866  | 0.00738192  |\\n|  3 | 0.0204561  | 0.0151999   |\\n|  4 | 0.038944   | 0.0300946   |\\n|  5 | 0.14165    | 0.0603456   |'"
            ]
          },
          "metadata": {},
          "execution_count": 7
        }
      ]
    }
  ]
}